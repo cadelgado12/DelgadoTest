{
  "nbformat": 4,
  "nbformat_minor": 0,
  "metadata": {
    "colab": {
      "provenance": [],
      "authorship_tag": "ABX9TyPpnATLU7RBwsqIkZQfxyOX",
      "include_colab_link": true
    },
    "kernelspec": {
      "name": "python3",
      "display_name": "Python 3"
    },
    "language_info": {
      "name": "python"
    }
  },
  "cells": [
    {
      "cell_type": "markdown",
      "metadata": {
        "id": "view-in-github",
        "colab_type": "text"
      },
      "source": [
        "<a href=\"https://colab.research.google.com/github/cadelgado12/DelgadoTest/blob/master/PL_Gekko_Windor.ipynb\" target=\"_parent\"><img src=\"https://colab.research.google.com/assets/colab-badge.svg\" alt=\"Open In Colab\"/></a>"
      ]
    },
    {
      "cell_type": "code",
      "execution_count": null,
      "metadata": {
        "id": "N2rkuyXWCY00"
      },
      "outputs": [],
      "source": []
    },
    {
      "cell_type": "markdown",
      "source": [
        "# PROBLEMA WINDOR GLASS DE PL"
      ],
      "metadata": {
        "id": "_Og2nGynCghx"
      }
    },
    {
      "cell_type": "markdown",
      "source": [
        "### INSTALACION LIBRERIA GEKKO"
      ],
      "metadata": {
        "id": "1Al7shw4CmNg"
      }
    },
    {
      "cell_type": "code",
      "source": [
        "pip install GEKKO"
      ],
      "metadata": {
        "colab": {
          "base_uri": "https://localhost:8080/"
        },
        "id": "PUO9PbFMCw3u",
        "outputId": "790eee26-d44c-4d23-9668-ed024ddc951d"
      },
      "execution_count": 1,
      "outputs": [
        {
          "output_type": "stream",
          "name": "stdout",
          "text": [
            "Collecting GEKKO\n",
            "  Downloading gekko-1.1.1-py3-none-any.whl (13.2 MB)\n",
            "\u001b[2K     \u001b[90m━━━━━━━━━━━━━━━━━━━━━━━━━━━━━━━━━━━━━━━━\u001b[0m \u001b[32m13.2/13.2 MB\u001b[0m \u001b[31m20.8 MB/s\u001b[0m eta \u001b[36m0:00:00\u001b[0m\n",
            "\u001b[?25hRequirement already satisfied: numpy>=1.8 in /usr/local/lib/python3.10/dist-packages (from GEKKO) (1.25.2)\n",
            "Installing collected packages: GEKKO\n",
            "Successfully installed GEKKO-1.1.1\n"
          ]
        }
      ]
    },
    {
      "cell_type": "markdown",
      "source": [
        "### Importar GEKKO"
      ],
      "metadata": {
        "id": "13zIfKiNObHK"
      }
    },
    {
      "cell_type": "code",
      "source": [
        "from gekko import GEKKO"
      ],
      "metadata": {
        "id": "S_pMI68COlQv"
      },
      "execution_count": 55,
      "outputs": []
    },
    {
      "cell_type": "markdown",
      "source": [
        "Inicializar el modelo GEKKO almacenandolo en una variable m"
      ],
      "metadata": {
        "id": "5H2vcp_mOuh-"
      }
    },
    {
      "cell_type": "code",
      "source": [
        "m = GEKKO(remote = False, name = \"Problema Windor Glass\")   # Permite resolver el modelo localmente. Esto implica correr el modelo directamente en el servidor(e.g. Windows o Linus) que se está trabajando"
      ],
      "metadata": {
        "id": "amKTi_SoOtfn"
      },
      "execution_count": 56,
      "outputs": []
    },
    {
      "cell_type": "markdown",
      "source": [
        "### Creación de Variables"
      ],
      "metadata": {
        "id": "iYvVoRCARWAW"
      }
    },
    {
      "cell_type": "code",
      "source": [
        "X1 = m.Var(name = \"Cantidad de Puertas a producir\")\n",
        "X2 = m.Var(name = \"Cantidad de Ventanas a producir\")"
      ],
      "metadata": {
        "id": "TbfxNkRMRY4g"
      },
      "execution_count": 57,
      "outputs": []
    },
    {
      "cell_type": "markdown",
      "source": [
        "### Función Objetivo"
      ],
      "metadata": {
        "id": "2cTE0cVaSAaq"
      }
    },
    {
      "cell_type": "code",
      "source": [
        "m.Maximize(3*X1 + 5*X2)"
      ],
      "metadata": {
        "id": "ZKJ4pJQRSDLs"
      },
      "execution_count": 58,
      "outputs": []
    },
    {
      "cell_type": "markdown",
      "source": [
        "### Restricciones"
      ],
      "metadata": {
        "id": "tpDu1L4FSWY4"
      }
    },
    {
      "cell_type": "code",
      "source": [
        "m.Equation(X1<=4) #Horas disponibles planta 1\n",
        "m.Equation(2*X2<=12) #Horas disponibles planta 2\n",
        "m.Equation(3*X1 + 2*X2<=18) #Horas disponibles planta 3\n"
      ],
      "metadata": {
        "colab": {
          "base_uri": "https://localhost:8080/"
        },
        "id": "M8R-9U3GSZAB",
        "outputId": "76f0bf08-e622-4884-a182-d20f97ce4923"
      },
      "execution_count": 59,
      "outputs": [
        {
          "output_type": "execute_result",
          "data": {
            "text/plain": [
              "<gekko.gekko.EquationObj at 0x7de475957880>"
            ]
          },
          "metadata": {},
          "execution_count": 59
        }
      ]
    },
    {
      "cell_type": "markdown",
      "source": [
        "### Resolver el modelo"
      ],
      "metadata": {
        "id": "UYp2pqmHS1vO"
      }
    },
    {
      "cell_type": "code",
      "source": [
        "m.solve(disp = False)"
      ],
      "metadata": {
        "id": "MXIC1scvS7UQ"
      },
      "execution_count": 63,
      "outputs": []
    },
    {
      "cell_type": "markdown",
      "source": [
        "### Imprimir los valores de las variables de decisión y F.O."
      ],
      "metadata": {
        "id": "0RHe0FmwXsGW"
      }
    },
    {
      "cell_type": "code",
      "source": [
        "print('Cantidad de puertas a producir:', X1.Value[0])\n",
        "print('Cantidad de ventanas a producir:', X2.Value[0])\n",
        "print('Ganancias:', 3*X1.Value[0] + 5*X2.Value[0])"
      ],
      "metadata": {
        "colab": {
          "base_uri": "https://localhost:8080/"
        },
        "id": "5JzCmnPfXyOu",
        "outputId": "96213f6d-918d-4a33-814d-a05e60f6bc1f"
      },
      "execution_count": 64,
      "outputs": [
        {
          "output_type": "stream",
          "name": "stdout",
          "text": [
            "Cantidad de puertas a producir: 2.0\n",
            "Cantidad de ventanas a producir: 6.0\n",
            "Ganancias: 36.0\n"
          ]
        }
      ]
    }
  ]
}