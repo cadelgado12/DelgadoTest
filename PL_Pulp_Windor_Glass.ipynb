{
  "nbformat": 4,
  "nbformat_minor": 0,
  "metadata": {
    "colab": {
      "provenance": [],
      "authorship_tag": "ABX9TyM0f+0pUVLbXkw/f2SVr9st",
      "include_colab_link": true
    },
    "kernelspec": {
      "name": "python3",
      "display_name": "Python 3"
    },
    "language_info": {
      "name": "python"
    }
  },
  "cells": [
    {
      "cell_type": "markdown",
      "metadata": {
        "id": "view-in-github",
        "colab_type": "text"
      },
      "source": [
        "<a href=\"https://colab.research.google.com/github/cadelgado12/DelgadoTest/blob/master/PL_Pulp_Windor_Glass.ipynb\" target=\"_parent\"><img src=\"https://colab.research.google.com/assets/colab-badge.svg\" alt=\"Open In Colab\"/></a>"
      ]
    },
    {
      "cell_type": "markdown",
      "source": [
        "#PROBLEMA DE PROGRAMACION LINEAL"
      ],
      "metadata": {
        "id": "IpwZIb2bdI_x"
      }
    },
    {
      "cell_type": "markdown",
      "source": [
        "## PROBLEMA WINDOR GLASS\n"
      ],
      "metadata": {
        "id": "wN90Gt6FeDCM"
      }
    },
    {
      "cell_type": "markdown",
      "source": [
        "Instalacion de la libreria Pulp"
      ],
      "metadata": {
        "id": "vzAoadaWe4fJ"
      }
    },
    {
      "cell_type": "code",
      "source": [
        "pip install pulp"
      ],
      "metadata": {
        "colab": {
          "base_uri": "https://localhost:8080/"
        },
        "id": "JEyvS0W4dKdO",
        "outputId": "2ff3b84a-e30b-44ad-fe80-8fb8aaf14385"
      },
      "execution_count": null,
      "outputs": [
        {
          "output_type": "stream",
          "name": "stdout",
          "text": [
            "Collecting pulp\n",
            "  Downloading PuLP-2.8.0-py3-none-any.whl (17.7 MB)\n",
            "\u001b[2K     \u001b[90m━━━━━━━━━━━━━━━━━━━━━━━━━━━━━━━━━━━━━━━━\u001b[0m \u001b[32m17.7/17.7 MB\u001b[0m \u001b[31m30.4 MB/s\u001b[0m eta \u001b[36m0:00:00\u001b[0m\n",
            "\u001b[?25hInstalling collected packages: pulp\n",
            "Successfully installed pulp-2.8.0\n"
          ]
        }
      ]
    },
    {
      "cell_type": "markdown",
      "source": [
        "Importar la libreria pulp"
      ],
      "metadata": {
        "id": "983qkPZ8gfum"
      }
    },
    {
      "cell_type": "code",
      "source": [
        "import pulp"
      ],
      "metadata": {
        "id": "kU-4DF5Ihi72"
      },
      "execution_count": null,
      "outputs": []
    },
    {
      "cell_type": "markdown",
      "source": [
        "### Crear un objeto llamado \"problema\" para almacenar el modelo de PL"
      ],
      "metadata": {
        "id": "wSgdWnRWkccg"
      }
    },
    {
      "cell_type": "code",
      "source": [
        "problema = pulp.LpProblem(\"Windor\", pulp.LpMaximize)"
      ],
      "metadata": {
        "id": "2reoIIQzkrUG"
      },
      "execution_count": null,
      "outputs": []
    },
    {
      "cell_type": "markdown",
      "source": [
        "## Crear Variables de decision"
      ],
      "metadata": {
        "id": "JETHNANInOOK"
      }
    },
    {
      "cell_type": "code",
      "source": [
        "X1 = pulp.LpVariable(\"Puertas\",lowBound=0, cat=\"Integer\")\n",
        "X2 = pulp.LpVariable(\"Ventanas\",lowBound=0, cat=\"Integer\")\n"
      ],
      "metadata": {
        "id": "F3Tqhdf6nSpd"
      },
      "execution_count": null,
      "outputs": []
    },
    {
      "cell_type": "markdown",
      "source": [
        "## Crear Funcion Objetivo"
      ],
      "metadata": {
        "id": "kIuHlaRIpImN"
      }
    },
    {
      "cell_type": "code",
      "source": [
        "Z = 3*X1 + 5*X2\n",
        "problema += Z"
      ],
      "metadata": {
        "id": "GboaqaETpLrb"
      },
      "execution_count": null,
      "outputs": []
    },
    {
      "cell_type": "markdown",
      "source": [
        "## Agregar Restricciones"
      ],
      "metadata": {
        "id": "U8hKGrGtp22R"
      }
    },
    {
      "cell_type": "code",
      "source": [
        "# Horas utilizadas en planta 1\n",
        "horas_planta1 = X1\n",
        "problema += (horas_planta1 <= 4)\n",
        "# Horas utilizadas en planta 2\n",
        "horas_planta2 = 2*X2\n",
        "problema += (horas_planta2 <= 12)\n",
        "# Horas utilizadas en planta 3\n",
        "horas_planta3 = 3*X1 + 2*X2\n",
        "problema += (horas_planta3 <= 18)"
      ],
      "metadata": {
        "id": "-T3w64gPp57T"
      },
      "execution_count": null,
      "outputs": []
    },
    {
      "cell_type": "markdown",
      "source": [
        "## Imprimir el modelo"
      ],
      "metadata": {
        "id": "JpjJJKdYrdQc"
      }
    },
    {
      "cell_type": "code",
      "source": [
        "print(problema)"
      ],
      "metadata": {
        "colab": {
          "base_uri": "https://localhost:8080/"
        },
        "id": "dAvnwh5qrhyh",
        "outputId": "5d320611-df71-4c46-9934-086f36569681"
      },
      "execution_count": null,
      "outputs": [
        {
          "output_type": "stream",
          "name": "stdout",
          "text": [
            "Windor:\n",
            "MAXIMIZE\n",
            "3*Puertas + 5*Ventanas + 0\n",
            "SUBJECT TO\n",
            "_C1: Puertas <= 4\n",
            "\n",
            "_C2: 2 Ventanas <= 12\n",
            "\n",
            "_C3: 3 Puertas + 2 Ventanas <= 18\n",
            "\n",
            "VARIABLES\n",
            "0 <= Puertas Integer\n",
            "0 <= Ventanas Integer\n",
            "\n"
          ]
        }
      ]
    },
    {
      "cell_type": "markdown",
      "source": [
        "## Resolver"
      ],
      "metadata": {
        "id": "PWmQXK73r4xq"
      }
    }
  ]
}